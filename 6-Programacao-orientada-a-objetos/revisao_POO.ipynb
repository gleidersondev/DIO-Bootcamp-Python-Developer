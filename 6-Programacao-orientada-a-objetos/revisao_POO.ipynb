{
 "cells": [
  {
   "cell_type": "markdown",
   "id": "f01a1ab1",
   "metadata": {},
   "source": [
    "# Revisão: Programação Orientada a Objetos com Python"
   ]
  },
  {
   "cell_type": "markdown",
   "id": "e58db879",
   "metadata": {},
   "source": [
    "## Exercício 1 - Classe Pessoa\n",
    "\n",
    "Crie uma classe `Pessoa` com os atributos `nome` e `idade`. Adicione um método `falar()` que exiba uma frase com o nome e a idade."
   ]
  },
  {
   "cell_type": "code",
   "execution_count": 2,
   "id": "2e150f5d",
   "metadata": {},
   "outputs": [
    {
     "name": "stdout",
     "output_type": "stream",
     "text": [
      "Cadastro de Gleiderson, idade 30 anos, realizado com sucesso!\n"
     ]
    }
   ],
   "source": [
    "class Pessoa:\n",
    "  def __init__(self, nome, idade):\n",
    "    self.nome = nome\n",
    "    self.idade = idade\n",
    "    \n",
    "  def falar(self):\n",
    "    print(f\"Cadastro de {self.nome}, idade {self.idade} anos, realizado com sucesso!\")\n",
    "    \n",
    "p1 = Pessoa(\"Gleiderson\", 30)\n",
    "p1.falar()\n",
    "    \n"
   ]
  },
  {
   "cell_type": "markdown",
   "id": "e74d9455",
   "metadata": {},
   "source": [
    "## Exercício 2 - Classe Animal\n",
    "\n",
    "Crie uma classe `Animal` com um método `emitir_som()`. Depois, crie duas classes `Cachorro` e `Gato` que herdam de `Animal` e sobrescrevem o método para emitir sons diferentes."
   ]
  },
  {
   "cell_type": "code",
   "execution_count": 1,
   "id": "c5c4100c",
   "metadata": {},
   "outputs": [
    {
     "name": "stdout",
     "output_type": "stream",
     "text": [
      "Lupe\n",
      "Au Au!\n",
      "Charlene\n",
      "Miau Miau!\n"
     ]
    }
   ],
   "source": [
    "class Animal:\n",
    "  def __init__(self, nome):\n",
    "    self.nome = nome\n",
    "  \n",
    "  def emitir_som(self):\n",
    "    print(\"Som do animal\")\n",
    "\n",
    "class Cachorro(Animal):\n",
    "  def emitir_som(self):\n",
    "    print(\"Au Au!\")\n",
    "    \n",
    "class Gato(Animal):\n",
    "  def emitir_som(self):\n",
    "    print(\"Miau Miau!\")\n",
    "    \n",
    "c1 = Cachorro(\"Lupe\")\n",
    "print(c1.nome)\n",
    "c1.emitir_som()\n",
    "\n",
    "g1 = Gato(\"Charlene\")\n",
    "print(g1.nome)\n",
    "g1.emitir_som()"
   ]
  },
  {
   "cell_type": "markdown",
   "id": "52460600",
   "metadata": {},
   "source": [
    "## Exercício 3 - Encapsulamento\n",
    "\n",
    "Crie uma classe `ContaBancaria` com atributos privados `_saldo`. Adicione métodos `depositar()` e `sacar()` que atualizam o saldo com segurança."
   ]
  },
  {
   "cell_type": "code",
   "execution_count": null,
   "id": "0836bdb9",
   "metadata": {},
   "outputs": [],
   "source": [
    "class ContaBancaria:\n",
    "  def __init__(self, saldo_inicial):\n",
    "    self._saldo = saldo_inicial\n",
    "    \n",
    "  def depositar(self, valor):\n",
    "    if valor > 0:\n",
    "      self._saldo += valor\n",
    "      print(f\"Depósito de R$ {valor:.2f} efetuado com sucesso!\")\n",
    "      print(f\"Seu saldo é de R$ {self._saldo:.2f}\")\n",
    "    else:\n",
    "      print(\"Digite um valor válido para depósito.\")\n",
    "      \n",
    "  def sacar(self, saque):\n",
    "    if saque > 0 <= self._saldo:\n",
    "      self._saldo -= saque\n",
    "      print(f\"Saque de R$ {saque:.2f} efetuado com sucesso!\")\n",
    "      print(f\"Seu saldo é de R$ {self._saldo:.2f}\")\n",
    "    else:\n",
    "      print(\"Digite um valor válido para saque.\")\n",
    "      \n",
    "conta1 = ContaBancaria(2000)\n",
    "conta1.depositar(200)\n",
    "conta1.sacar(100)\n",
    "\n",
    "conta2 = ContaBancaria(1200)\n",
    "conta2.sacar(1200)\n",
    "conta2.depositar(300)\n",
    "       \n",
    "    \n",
    "    \n"
   ]
  },
  {
   "cell_type": "markdown",
   "id": "6b7c0d7a",
   "metadata": {},
   "source": [
    "## Exercício 4 - @property\n",
    "\n",
    "Adicione `@property` e `@setter` para proteger o acesso ao saldo da classe `ContaBancaria`."
   ]
  },
  {
   "cell_type": "code",
   "execution_count": null,
   "id": "56fc36f6",
   "metadata": {},
   "outputs": [],
   "source": [
    "# Sua resposta aqui\n"
   ]
  },
  {
   "cell_type": "markdown",
   "id": "579ba303",
   "metadata": {},
   "source": [
    "## Exercício 5 - Herança Múltipla\n",
    "\n",
    "Crie uma classe `Funcionario` que herda de `Pessoa` e `Beneficios`. Adicione os atributos `cargo`, `salario` e os benefícios fixos `vale_transporte`, `vale_alimentacao`."
   ]
  },
  {
   "cell_type": "code",
   "execution_count": null,
   "id": "83f0c1bd",
   "metadata": {},
   "outputs": [],
   "source": [
    "# Sua resposta aqui\n"
   ]
  },
  {
   "cell_type": "markdown",
   "id": "f6efa98f",
   "metadata": {},
   "source": [
    "## Exercício 6 - Polimorfismo\n",
    "\n",
    "Crie uma função que receba uma lista de objetos `Animal` e chame o método `emitir_som()` para cada um, demonstrando o polimorfismo."
   ]
  },
  {
   "cell_type": "code",
   "execution_count": null,
   "id": "dfbb6366",
   "metadata": {},
   "outputs": [],
   "source": [
    "# Sua resposta aqui\n"
   ]
  },
  {
   "cell_type": "markdown",
   "id": "c4f907da",
   "metadata": {},
   "source": [
    "## Exercício 7 - Variáveis de Classe\n",
    "\n",
    "Crie uma classe `Funcionario` com uma variável de classe `total_funcionarios` que conte quantos funcionários foram criados."
   ]
  },
  {
   "cell_type": "code",
   "execution_count": null,
   "id": "2f0fad59",
   "metadata": {},
   "outputs": [],
   "source": [
    "# Sua resposta aqui\n"
   ]
  },
  {
   "cell_type": "markdown",
   "id": "92738885",
   "metadata": {},
   "source": [
    "## Exercício 8 - Métodos de Classe e Estáticos\n",
    "\n",
    "Implemente um método de classe que retorne a quantidade total de funcionários e um método estático que calcule bônus com base no salário."
   ]
  },
  {
   "cell_type": "code",
   "execution_count": null,
   "id": "2dd767ae",
   "metadata": {},
   "outputs": [],
   "source": [
    "# Sua resposta aqui\n"
   ]
  },
  {
   "cell_type": "markdown",
   "id": "7521726f",
   "metadata": {},
   "source": [
    "## Exercício 9 - Interface com classe abstrata\n",
    "\n",
    "Crie uma classe abstrata `FormaGeometrica` com método `area()` e crie duas subclasses `Quadrado` e `Circulo` que implementam esse método."
   ]
  },
  {
   "cell_type": "code",
   "execution_count": null,
   "id": "12d721fa",
   "metadata": {},
   "outputs": [],
   "source": [
    "# Sua resposta aqui\n"
   ]
  },
  {
   "cell_type": "markdown",
   "id": "6d5674b6",
   "metadata": {},
   "source": [
    "## Exercício 10 - Sistema Bancário\n",
    "\n",
    "Implemente um pequeno sistema bancário com classes `Conta`, `ContaCorrente` e `ContaPoupanca`, utilizando herança, encapsulamento e polimorfismo."
   ]
  },
  {
   "cell_type": "code",
   "execution_count": null,
   "id": "f3172c16",
   "metadata": {},
   "outputs": [],
   "source": [
    "# Sua resposta aqui\n"
   ]
  }
 ],
 "metadata": {
  "kernelspec": {
   "display_name": ".venv",
   "language": "python",
   "name": "python3"
  },
  "language_info": {
   "codemirror_mode": {
    "name": "ipython",
    "version": 3
   },
   "file_extension": ".py",
   "mimetype": "text/x-python",
   "name": "python",
   "nbconvert_exporter": "python",
   "pygments_lexer": "ipython3",
   "version": "3.10.12"
  }
 },
 "nbformat": 4,
 "nbformat_minor": 5
}
