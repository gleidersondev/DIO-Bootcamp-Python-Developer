{
 "cells": [
  {
   "cell_type": "markdown",
   "id": "f01a1ab1",
   "metadata": {},
   "source": [
    "# Revisão: Programação Orientada a Objetos com Python"
   ]
  },
  {
   "cell_type": "markdown",
   "id": "e58db879",
   "metadata": {},
   "source": [
    "## Exercício 1 - Classe Pessoa\n",
    "\n",
    "Crie uma classe `Pessoa` com os atributos `nome` e `idade`. Adicione um método `falar()` que exiba uma frase com o nome e a idade."
   ]
  },
  {
   "cell_type": "code",
   "execution_count": null,
   "id": "2e150f5d",
   "metadata": {},
   "outputs": [],
   "source": [
    "\n",
    "    \n",
    "    \n"
   ]
  },
  {
   "cell_type": "markdown",
   "id": "e74d9455",
   "metadata": {},
   "source": [
    "## Exercício 2 - Classe Animal\n",
    "\n",
    "Crie uma classe `Animal` com um método `emitir_som()`. Depois, crie duas classes `Cachorro` e `Gato` que herdam de `Animal` e sobrescrevem o método para emitir sons diferentes."
   ]
  },
  {
   "cell_type": "code",
   "execution_count": null,
   "id": "c5c4100c",
   "metadata": {},
   "outputs": [],
   "source": [
    "# Sua resposta aqui\n"
   ]
  },
  {
   "cell_type": "markdown",
   "id": "52460600",
   "metadata": {},
   "source": [
    "## Exercício 3 - Encapsulamento\n",
    "\n",
    "Crie uma classe `ContaBancaria` com atributos privados `_saldo`. Adicione métodos `depositar()` e `sacar()` que atualizam o saldo com segurança."
   ]
  },
  {
   "cell_type": "code",
   "execution_count": null,
   "id": "0836bdb9",
   "metadata": {},
   "outputs": [],
   "source": [
    "# Sua resposta aqui\n"
   ]
  },
  {
   "cell_type": "markdown",
   "id": "6b7c0d7a",
   "metadata": {},
   "source": [
    "## Exercício 4 - @property\n",
    "\n",
    "Adicione `@property` e `@setter` para proteger o acesso ao saldo da classe `ContaBancaria`."
   ]
  },
  {
   "cell_type": "code",
   "execution_count": null,
   "id": "56fc36f6",
   "metadata": {},
   "outputs": [],
   "source": [
    "# Sua resposta aqui\n"
   ]
  },
  {
   "cell_type": "markdown",
   "id": "579ba303",
   "metadata": {},
   "source": [
    "## Exercício 5 - Herança Múltipla\n",
    "\n",
    "Crie uma classe `Funcionario` que herda de `Pessoa` e `Beneficios`. Adicione os atributos `cargo`, `salario` e os benefícios fixos `vale_transporte`, `vale_alimentacao`."
   ]
  },
  {
   "cell_type": "code",
   "execution_count": null,
   "id": "83f0c1bd",
   "metadata": {},
   "outputs": [],
   "source": [
    "# Sua resposta aqui\n"
   ]
  },
  {
   "cell_type": "markdown",
   "id": "f6efa98f",
   "metadata": {},
   "source": [
    "## Exercício 6 - Polimorfismo\n",
    "\n",
    "Crie uma função que receba uma lista de objetos `Animal` e chame o método `emitir_som()` para cada um, demonstrando o polimorfismo."
   ]
  },
  {
   "cell_type": "code",
   "execution_count": null,
   "id": "dfbb6366",
   "metadata": {},
   "outputs": [],
   "source": [
    "# Sua resposta aqui\n"
   ]
  },
  {
   "cell_type": "markdown",
   "id": "c4f907da",
   "metadata": {},
   "source": [
    "## Exercício 7 - Variáveis de Classe\n",
    "\n",
    "Crie uma classe `Funcionario` com uma variável de classe `total_funcionarios` que conte quantos funcionários foram criados."
   ]
  },
  {
   "cell_type": "code",
   "execution_count": null,
   "id": "2f0fad59",
   "metadata": {},
   "outputs": [],
   "source": [
    "# Sua resposta aqui\n"
   ]
  },
  {
   "cell_type": "markdown",
   "id": "92738885",
   "metadata": {},
   "source": [
    "## Exercício 8 - Métodos de Classe e Estáticos\n",
    "\n",
    "Implemente um método de classe que retorne a quantidade total de funcionários e um método estático que calcule bônus com base no salário."
   ]
  },
  {
   "cell_type": "code",
   "execution_count": null,
   "id": "2dd767ae",
   "metadata": {},
   "outputs": [],
   "source": [
    "# Sua resposta aqui\n"
   ]
  },
  {
   "cell_type": "markdown",
   "id": "7521726f",
   "metadata": {},
   "source": [
    "## Exercício 9 - Interface com classe abstrata\n",
    "\n",
    "Crie uma classe abstrata `FormaGeometrica` com método `area()` e crie duas subclasses `Quadrado` e `Circulo` que implementam esse método."
   ]
  },
  {
   "cell_type": "code",
   "execution_count": null,
   "id": "12d721fa",
   "metadata": {},
   "outputs": [],
   "source": [
    "# Sua resposta aqui\n"
   ]
  },
  {
   "cell_type": "markdown",
   "id": "6d5674b6",
   "metadata": {},
   "source": [
    "## Exercício 10 - Sistema Bancário\n",
    "\n",
    "Implemente um pequeno sistema bancário com classes `Conta`, `ContaCorrente` e `ContaPoupanca`, utilizando herança, encapsulamento e polimorfismo."
   ]
  },
  {
   "cell_type": "code",
   "execution_count": null,
   "id": "f3172c16",
   "metadata": {},
   "outputs": [],
   "source": [
    "# Sua resposta aqui\n"
   ]
  }
 ],
 "metadata": {
  "language_info": {
   "name": "python"
  }
 },
 "nbformat": 4,
 "nbformat_minor": 5
}
