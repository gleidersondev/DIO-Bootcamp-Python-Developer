{
 "cells": [
  {
   "cell_type": "markdown",
   "id": "f01a1ab1",
   "metadata": {},
   "source": [
    "# Revisão: Programação Orientada a Objetos com Python"
   ]
  },
  {
   "cell_type": "markdown",
   "id": "e58db879",
   "metadata": {},
   "source": [
    "## Exercício 1 - Classe Pessoa\n",
    "\n",
    "Crie uma classe `Pessoa` com os atributos `nome` e `idade`. Adicione um método `falar()` que exiba uma frase com o nome e a idade."
   ]
  },
  {
   "cell_type": "code",
   "execution_count": 2,
   "id": "2e150f5d",
   "metadata": {},
   "outputs": [
    {
     "name": "stdout",
     "output_type": "stream",
     "text": [
      "Cadastro de Gleiderson, idade 30 anos, realizado com sucesso!\n"
     ]
    }
   ],
   "source": [
    "class Pessoa:\n",
    "  def __init__(self, nome, idade):\n",
    "    self.nome = nome\n",
    "    self.idade = idade\n",
    "    \n",
    "  def falar(self):\n",
    "    print(f\"Cadastro de {self.nome}, idade {self.idade} anos, realizado com sucesso!\")\n",
    "    \n",
    "p1 = Pessoa(\"Gleiderson\", 30)\n",
    "p1.falar()\n",
    "    \n"
   ]
  },
  {
   "cell_type": "markdown",
   "id": "e74d9455",
   "metadata": {},
   "source": [
    "## Exercício 2 - Classe Animal\n",
    "\n",
    "Crie uma classe `Animal` com um método `emitir_som()`. Depois, crie duas classes `Cachorro` e `Gato` que herdam de `Animal` e sobrescrevem o método para emitir sons diferentes."
   ]
  },
  {
   "cell_type": "code",
   "execution_count": 1,
   "id": "c5c4100c",
   "metadata": {},
   "outputs": [
    {
     "name": "stdout",
     "output_type": "stream",
     "text": [
      "Lupe\n",
      "Au Au!\n",
      "Charlene\n",
      "Miau Miau!\n"
     ]
    }
   ],
   "source": [
    "class Animal:\n",
    "  def __init__(self, nome):\n",
    "    self.nome = nome\n",
    "  \n",
    "  def emitir_som(self):\n",
    "    print(\"Som do animal\")\n",
    "\n",
    "class Cachorro(Animal):\n",
    "  def emitir_som(self):\n",
    "    print(\"Au Au!\")\n",
    "    \n",
    "class Gato(Animal):\n",
    "  def emitir_som(self):\n",
    "    print(\"Miau Miau!\")\n",
    "    \n",
    "c1 = Cachorro(\"Lupe\")\n",
    "print(c1.nome)\n",
    "c1.emitir_som()\n",
    "\n",
    "g1 = Gato(\"Charlene\")\n",
    "print(g1.nome)\n",
    "g1.emitir_som()"
   ]
  },
  {
   "cell_type": "markdown",
   "id": "52460600",
   "metadata": {},
   "source": [
    "## Exercício 3 - Encapsulamento\n",
    "\n",
    "Crie uma classe `ContaBancaria` com atributos privados `_saldo`. Adicione métodos `depositar()` e `sacar()` que atualizam o saldo com segurança."
   ]
  },
  {
   "cell_type": "code",
   "execution_count": null,
   "id": "0836bdb9",
   "metadata": {},
   "outputs": [
    {
     "name": "stdout",
     "output_type": "stream",
     "text": [
      "Depósito de R$ 200.00 efetuado com sucesso!\n",
      "Seu saldo é de R$ 2200.00\n",
      "Saque de R$ 100.00 efetuado com sucesso!\n",
      "Seu saldo é de R$ 2100.00\n",
      "Saque de R$ 1200.00 efetuado com sucesso!\n",
      "Seu saldo é de R$ 0.00\n",
      "Depósito de R$ 300.00 efetuado com sucesso!\n",
      "Seu saldo é de R$ 300.00\n"
     ]
    }
   ],
   "source": [
    "class ContaBancaria:\n",
    "  def __init__(self, saldo_inicial):\n",
    "    self._saldo = saldo_inicial\n",
    "    \n",
    "  def depositar(self, valor):\n",
    "    if valor > 0:\n",
    "      self._saldo += valor\n",
    "      print(f\"Depósito de R$ {valor:.2f} efetuado com sucesso!\")\n",
    "      print(f\"Seu saldo é de R$ {self._saldo:.2f}\")\n",
    "    else:\n",
    "      print(\"Digite um valor válido para depósito.\")\n",
    "      \n",
    "  def sacar(self, saque):\n",
    "    if saque > 0 and saque <= self._saldo:\n",
    "      self._saldo -= saque\n",
    "      print(f\"Saque de R$ {saque:.2f} efetuado com sucesso!\")\n",
    "      print(f\"Seu saldo é de R$ {self._saldo:.2f}\")\n",
    "    else:\n",
    "      print(\"Digite um valor válido para saque.\")\n",
    "      \n",
    "conta1 = ContaBancaria(2000)\n",
    "conta1.depositar(200)\n",
    "conta1.sacar(100)\n",
    "\n",
    "conta2 = ContaBancaria(1200)\n",
    "conta2.sacar(1200)\n",
    "conta2.depositar(300)\n",
    "       \n",
    "    \n",
    "    \n"
   ]
  },
  {
   "cell_type": "markdown",
   "id": "6b7c0d7a",
   "metadata": {},
   "source": [
    "## Exercício 4 - @property\n",
    "\n",
    "Adicione `@property` e `@setter` para proteger o acesso ao saldo da classe `ContaBancaria`."
   ]
  },
  {
   "cell_type": "code",
   "execution_count": null,
   "id": "56fc36f6",
   "metadata": {},
   "outputs": [],
   "source": [
    "class ContaBancaria:\n",
    "  def __init__(self, saldo_inicial):\n",
    "    self._saldo = saldo_inicial\n",
    "    \n",
    "  @property\n",
    "  def saldo(self):\n",
    "    print(f\"O saldo é de {self._saldo:.2f}\")\n",
    "    \n",
    "  def depositar(self, valor):\n",
    "    if valor > 0:\n",
    "      self._saldo += valor\n",
    "      print(f\"Depósito de R$ {valor:.2f} efetuado com sucesso!\")\n",
    "      print(f\"Seu saldo é de R$ {self._saldo:.2f}\")\n",
    "    else:\n",
    "      print(\"Digite um valor válido para depósito.\")\n",
    "      \n",
    "  def sacar(self, saque):\n",
    "    if saque > 0 and saque <= self._saldo:\n",
    "      self._saldo -= saque\n",
    "      print(f\"Saque de R$ {saque:.2f} efetuado com sucesso!\")\n",
    "      print(f\"Seu saldo é de R$ {self._saldo:.2f}\")\n",
    "    else:\n",
    "      print(\"Digite um valor válido para saque.\")\n"
   ]
  },
  {
   "cell_type": "markdown",
   "id": "579ba303",
   "metadata": {},
   "source": [
    "## Exercício 5 - Herança Múltipla\n",
    "\n",
    "Crie uma classe `Funcionario` que herda de `Pessoa` e `Beneficios`. Adicione os atributos `cargo`, `salario` e os benefícios fixos `vale_transporte`, `vale_alimentacao`."
   ]
  },
  {
   "cell_type": "code",
   "execution_count": 4,
   "id": "83f0c1bd",
   "metadata": {},
   "outputs": [
    {
     "name": "stdout",
     "output_type": "stream",
     "text": [
      "\n",
      "Nome: Gleiderson, CPF: 000.000.000-83\n",
      "          \n",
      "Atualmente exercendo a função: Desenvolvedor de Sistemas\n",
      "Salário atual: 4500.00\n",
      "Benéficios:\n",
      "  * Vale transporte: 500.00\n",
      "  * Vale alimentação: 1000.00\n",
      "\n",
      "\n"
     ]
    }
   ],
   "source": [
    "class Pessoa:\n",
    "  def __init__(self, nome, cpf):\n",
    "    self.nome = nome\n",
    "    self.cpf = cpf\n",
    "    \n",
    "  @property  \n",
    "  def pessoa(self):\n",
    "    return f\"Nome: {self.nome}, CPF: {self.cpf}\"\n",
    "    \n",
    "class Beneficios:\n",
    "  def __init__(self):\n",
    "    self.vale_transporte = 500.00\n",
    "    self.vale_alimentacao = 1000.00\n",
    "\n",
    "\n",
    "class Funcionario(Pessoa, Beneficios):\n",
    "  def __init__(self, nome, cpf, cargo, salario):\n",
    "    Pessoa.__init__(self, nome, cpf)\n",
    "    Beneficios.__init__(self)\n",
    "    self.cargo = cargo\n",
    "    self.salario = salario\n",
    "    \n",
    "  def exibir_dados(self):\n",
    "  \n",
    "    print(f\"\"\"\n",
    "{self.pessoa}\n",
    "          \n",
    "Atualmente exercendo a função: {self.cargo}\n",
    "Salário atual: {self.salario:.2f}\n",
    "Benéficios:\n",
    "  * Vale transporte: {self.vale_transporte:.2f}\n",
    "  * Vale alimentação: {self.vale_alimentacao:.2f}\n",
    "\n",
    "\"\"\")\n",
    "    \n",
    "p1 = Funcionario(\"Gleiderson\", \"000.000.000-83\", \"Desenvolvedor de Sistemas\", 4500)\n",
    "p1.exibir_dados()\n",
    "    \n",
    "    \n"
   ]
  },
  {
   "cell_type": "markdown",
   "id": "f6efa98f",
   "metadata": {},
   "source": [
    "## Exercício 6 - Polimorfismo\n",
    "\n",
    "Crie uma função que receba uma lista de objetos `Animal` e chame o método `emitir_som()` para cada um, demonstrando o polimorfismo."
   ]
  },
  {
   "cell_type": "code",
   "execution_count": null,
   "id": "dfbb6366",
   "metadata": {},
   "outputs": [
    {
     "name": "stdout",
     "output_type": "stream",
     "text": [
      "Aou Aou\n",
      "Miau Miau\n"
     ]
    }
   ],
   "source": [
    "class Animal: \n",
    "  def emitir_som(self):\n",
    "    print(\"Som padrão do animal\")\n",
    "    \n",
    "class Cachorro(Animal):\n",
    "  def emitir_som(self):\n",
    "    print(\"Aou Aou\")\n",
    "    \n",
    "class Gato(Animal):\n",
    "  def emitir_som(self):\n",
    "    print(\"Miau Miau\")\n",
    "    \n",
    "lupe = Cachorro()\n",
    "charlene = Gato()\n",
    "    \n",
    "animais = [lupe, charlene,]\n",
    "\n",
    "for animal in animais:\n",
    "  animal.emitir_som()\n",
    "    \n"
   ]
  },
  {
   "cell_type": "markdown",
   "id": "c4f907da",
   "metadata": {},
   "source": [
    "## Exercício 7 - Variáveis de Classe\n",
    "\n",
    "Crie uma classe `Funcionario` com uma variável de classe `total_funcionarios` que conte quantos funcionários foram criados."
   ]
  },
  {
   "cell_type": "code",
   "execution_count": null,
   "id": "2f0fad59",
   "metadata": {},
   "outputs": [
    {
     "name": "stdout",
     "output_type": "stream",
     "text": [
      "A empresa Vega SA possui 1 funcionários\n",
      "A empresa Vega SA possui 2 funcionários\n"
     ]
    }
   ],
   "source": [
    "class Funcionario:\n",
    "  empresa = \"Vega SA\"\n",
    "  total_de_funcionarios = 0\n",
    "  \n",
    "  def __init__(self, nome, cargo):\n",
    "    self.nome = nome\n",
    "    self.cargo = cargo\n",
    "    Funcionario.total_de_funcionarios += 1\n",
    "    \n",
    "  def exibir_dados(self):\n",
    "    print(f\"A empresa {Funcionario.empresa} possui {Funcionario.total_de_funcionarios} funcionários\")\n",
    "    \n",
    "f1 = Funcionario(\"João\", \"Maquinísta\")\n",
    "f1.exibir_dados()\n",
    "\n",
    "f2 = Funcionario(\"Carlos\", \"Motorista\")\n",
    "f2.exibir_dados()\n",
    "    "
   ]
  },
  {
   "cell_type": "markdown",
   "id": "92738885",
   "metadata": {},
   "source": [
    "## Exercício 8 - Métodos de Classe e Estáticos\n",
    "\n",
    "Implemente um método de classe que retorne a quantidade total de funcionários e um método estático que calcule bônus com base no salário."
   ]
  },
  {
   "cell_type": "code",
   "execution_count": 7,
   "id": "2dd767ae",
   "metadata": {},
   "outputs": [
    {
     "name": "stdout",
     "output_type": "stream",
     "text": [
      "O número de funcionários é 1\n",
      "Bônus concedido de R$ 2250.00\n"
     ]
    }
   ],
   "source": [
    "class Funcionario:\n",
    "  empresa = \"Andromeda SA\"\n",
    "  quantidade_de_funcionarios = 0\n",
    "  \n",
    "  def __init__(self, nome, cargo, salario):\n",
    "    self.nome = nome\n",
    "    self.cargo = cargo \n",
    "    self. salario = salario\n",
    "    Funcionario.quantidade_de_funcionarios += 1\n",
    "    \n",
    "  @classmethod\n",
    "  def exibir_dados(cls):\n",
    "    print(f\"O número de funcionários é {cls.quantidade_de_funcionarios}\")\n",
    "    \n",
    "  @staticmethod\n",
    "  def bonus_salario(valor):\n",
    "    bonus = valor * 0.5\n",
    "    print(f\"Bônus concedido de R$ {bonus:.2f}\")\n",
    "    \n",
    "f1 = Funcionario(\"Rafael\", \"Analista de Sistema\", 4500)\n",
    "f1.exibir_dados()\n",
    "f1.bonus_salario(f1.salario)\n",
    "  \n",
    "  \n",
    "    \n"
   ]
  },
  {
   "cell_type": "markdown",
   "id": "fc462b3f",
   "metadata": {},
   "source": []
  },
  {
   "cell_type": "markdown",
   "id": "7521726f",
   "metadata": {},
   "source": [
    "## Exercício 9 - Interface com classe abstrata\n",
    "\n",
    "Crie uma classe abstrata `FormaGeometrica` com método `area()` e crie duas subclasses `Quadrado` e `Circulo` que implementam esse método."
   ]
  },
  {
   "cell_type": "code",
   "execution_count": null,
   "id": "12d721fa",
   "metadata": {},
   "outputs": [
    {
     "name": "stdout",
     "output_type": "stream",
     "text": [
      "A area do quadrado é 25\n",
      "A area do quadrado é 28.274333882308138\n"
     ]
    }
   ],
   "source": [
    "from abc import ABC, abstractmethod\n",
    "import math\n",
    "\n",
    "class FormaGeometrica(ABC):\n",
    "  \n",
    "  @abstractmethod\n",
    "  def area(self):\n",
    "    pass\n",
    "  \n",
    "class Quadrado(FormaGeometrica):\n",
    "  def __init__(self, lado):\n",
    "    self.lado = lado\n",
    "    \n",
    "  def area(self):\n",
    "    area = self.lado ** 2\n",
    "    print(f\"A area do quadrado é {area}\")\n",
    "    \n",
    "class Circulo(FormaGeometrica):\n",
    "  def __init__(self, raio):\n",
    "    self.raio = raio\n",
    "    \n",
    "  def area(self):\n",
    "    area = math.pi * (self.raio ** 2)\n",
    "    print(f\"A area do quadrado é {area}\")\n",
    "  \n",
    "  \n",
    "q = Quadrado(5)\n",
    "q.area()\n",
    "\n",
    "c = Circulo(3)\n",
    "c.area()   \n",
    "\n"
   ]
  },
  {
   "cell_type": "markdown",
   "id": "1bf818ab",
   "metadata": {},
   "source": []
  },
  {
   "cell_type": "markdown",
   "id": "6d5674b6",
   "metadata": {},
   "source": [
    "## Exercício 10 - Sistema Bancário\n",
    "\n",
    "Implemente um pequeno sistema bancário com classes `Conta`, `ContaCorrente` e `ContaPoupanca`, utilizando herança, encapsulamento e polimorfismo."
   ]
  },
  {
   "cell_type": "code",
   "execution_count": null,
   "id": "f3172c16",
   "metadata": {},
   "outputs": [],
   "source": [
    "class Conta:\n",
    "  banco = \"PyBank\"\n",
    "  \n",
    "  def __init__(self, saldo_inicial_CC=500, saldo_inicial_CP=0):\n",
    "    self._saldo_CC = saldo_inicial_CC\n",
    "    self._saldo_CP = saldo_inicial_CP\n",
    "    \n",
    "  def imprimir_extrato(self):\n",
    "    print(f\"{self.banco}\")\n",
    "    print(f\"Seu saldo em conta corrente é de: R$ {self._saldo_CC:.2f}\")\n",
    "    print(f\"Seu saldo em conta poupança é de: R$ {self._saldo_CP:.2f}\")\n",
    "     \n",
    "class contaCorrente(Conta):\n",
    "  def __init__(self, valor, saldo_inicial_CC=0):\n",
    "    super().__init__(saldo_inicial_CC)\n",
    "    self.valor = valor\n",
    "    \n",
    "  def depositar_CC(self):\n",
    "    if self.valor > 0:\n",
    "      self._saldo_CC += self.valor\n",
    "      print(f\"Depósito de R$ {self.valor:.2f} realizado com sucesso!\")\n",
    "    else:\n",
    "        print(\"O valor tem que ser maior que 0 (zero).\")  \n",
    "  \n",
    "  def sacar_CC(self):\n",
    "    if self.valor > 0 and self.valor <= self._saldo_CC:\n",
    "      self._saldo_CC -= self.valor\n",
    "      print(f\"Saque de R$ {self.valor:.2f} realizado com sucesso!\")\n",
    "    else:\n",
    "      if self.valor < 0:\n",
    "        print(\"O valor tem que ser maior que 0 (zero).\")\n",
    "      else:\n",
    "        print(\"Saldo insuficiente\")\n",
    "        \n",
    "  def imprimir_extrato(self):\n",
    "    print(f\"Seu saldo em conta corrente é de: R$ {self._saldo_CC:.2f}\")\n",
    "    \n",
    "\n",
    "c1 = contaCorrente(100)\n",
    "      \n",
    "      \n",
    "      \n",
    "    \n"
   ]
  }
 ],
 "metadata": {
  "kernelspec": {
   "display_name": ".venv",
   "language": "python",
   "name": "python3"
  },
  "language_info": {
   "codemirror_mode": {
    "name": "ipython",
    "version": 3
   },
   "file_extension": ".py",
   "mimetype": "text/x-python",
   "name": "python",
   "nbconvert_exporter": "python",
   "pygments_lexer": "ipython3",
   "version": "3.10.12"
  }
 },
 "nbformat": 4,
 "nbformat_minor": 5
}
